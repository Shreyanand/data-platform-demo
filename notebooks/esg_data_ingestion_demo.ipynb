{
 "cells": [
  {
   "cell_type": "code",
   "execution_count": 1,
   "id": "0ebfa9eb-d6c5-425d-a059-3669afe381ee",
   "metadata": {},
   "outputs": [],
   "source": [
    "# pip install boto3\n",
    "# pip install python-dotenv\n",
    "# pip install PyPDF2"
   ]
  },
  {
   "cell_type": "code",
   "execution_count": 2,
   "id": "e9e13bef-809b-4bec-994a-f3172e8a2d2c",
   "metadata": {},
   "outputs": [],
   "source": [
    "import boto3\n",
    "import PyPDF2\n",
    "from io import BytesIO"
   ]
  },
  {
   "cell_type": "markdown",
   "id": "287ab746-7c69-464d-b26e-e1eeeb23275a",
   "metadata": {},
   "source": [
    "Load Credentials"
   ]
  },
  {
   "cell_type": "code",
   "execution_count": 3,
   "id": "4f985e36-ed0d-4159-a82a-7c52a8ef7b86",
   "metadata": {},
   "outputs": [],
   "source": [
    "from dotenv import dotenv_values, load_dotenv\n",
    "import os\n",
    "import pathlib\n",
    "\n",
    "dotenv_dir = os.environ.get('CREDENTIAL_DOTENV_DIR', os.environ.get('PWD', '/opt/app-root/src'))\n",
    "dotenv_path = pathlib.Path(dotenv_dir) / 'credentials.env'\n",
    "if os.path.exists(dotenv_path):\n",
    "    load_dotenv(dotenv_path=dotenv_path,override=True)"
   ]
  },
  {
   "cell_type": "markdown",
   "id": "4e4d5ef0-ceed-4dcd-bfbc-8f0d77391fd3",
   "metadata": {},
   "source": [
    "Create an S3 Client"
   ]
  },
  {
   "cell_type": "code",
   "execution_count": 4,
   "id": "5fa372da-d235-448e-b450-d52c9215c7ef",
   "metadata": {},
   "outputs": [],
   "source": [
    "s3_resource = boto3.resource(\n",
    "    service_name=\"s3\",\n",
    "    endpoint_url=os.environ['S3_ENDPOINT'],\n",
    "    aws_access_key_id=os.environ['S3_ACCESS_KEY'],\n",
    "    aws_secret_access_key=os.environ['S3_SECRET_KEY'],\n",
    ")"
   ]
  },
  {
   "cell_type": "markdown",
   "id": "843c7cc7-0afa-45da-873c-9f97b57682df",
   "metadata": {},
   "source": [
    "Retrieve all ESG reports from S&P Global in the bucket "
   ]
  },
  {
   "cell_type": "code",
   "execution_count": 5,
   "id": "621790f7-0235-4e02-822e-73e2adb44224",
   "metadata": {},
   "outputs": [
    {
     "data": {
      "text/plain": [
       "['redhat-osc-physicalrisk-upload/S&PGlobal_ESG/174656086_Glenmark Pharmaceu_2014-03-31.pdf',\n",
       " 'redhat-osc-physicalrisk-upload/S&PGlobal_ESG/174656666_Glenmark Pharmaceu_2013-03-31.pdf',\n",
       " 'redhat-osc-physicalrisk-upload/S&PGlobal_ESG/215786614_C.P. Pokphand Co_2017-12-31.pdf',\n",
       " 'redhat-osc-physicalrisk-upload/S&PGlobal_ESG/223279479_Glenmark Pharmaceu_2018-03-31.pdf',\n",
       " 'redhat-osc-physicalrisk-upload/S&PGlobal_ESG/231699798_Volkswagen AG_2017-12-31.pdf',\n",
       " 'redhat-osc-physicalrisk-upload/S&PGlobal_ESG/271839402_T&D Hldgs Inc_2018-12-24.pdf',\n",
       " 'redhat-osc-physicalrisk-upload/S&PGlobal_ESG/272156379_Mitsui E&S Hldgs C_2018-12-27.pdf',\n",
       " 'redhat-osc-physicalrisk-upload/S&PGlobal_ESG/272526067_Equity Resdl_2017-12-31.pdf',\n",
       " 'redhat-osc-physicalrisk-upload/S&PGlobal_ESG/272561465_Johnson & Johnson_2019-01-02.pdf',\n",
       " 'redhat-osc-physicalrisk-upload/S&PGlobal_ESG/272561483_Citigroup Inc_2019-01-02.pdf']"
      ]
     },
     "execution_count": 5,
     "metadata": {},
     "output_type": "execute_result"
    }
   ],
   "source": [
    "my_bucket = s3_resource.Bucket(os.environ['S3_BUCKET'])\n",
    "files = []\n",
    "\n",
    "for file in my_bucket.objects.filter(Prefix='redhat-osc-physicalrisk-upload/S&PGlobal_ESG/'):\n",
    "    if file.key.endswith('pdf'):\n",
    "        files.append(file.key)\n",
    "\n",
    "files[0:10]"
   ]
  },
  {
   "cell_type": "markdown",
   "id": "a2027e2f-5eb8-44d7-b96f-e5f131bf1087",
   "metadata": {},
   "source": [
    "Process a PDF file and perform text extraction"
   ]
  },
  {
   "cell_type": "code",
   "execution_count": 6,
   "id": "d98ea10e-8660-4585-a11a-7775b061bfe4",
   "metadata": {},
   "outputs": [],
   "source": [
    "# Extract the PDF content of the first PDF file in the list\n",
    "pdf_file = s3_resource.Object(os.environ['S3_BUCKET'],files[0])\n",
    "pdf_file_body = pdf_file.get()['Body'].read()"
   ]
  },
  {
   "cell_type": "code",
   "execution_count": 7,
   "id": "24469e05-89de-44b3-a1bf-2e28e62cd224",
   "metadata": {},
   "outputs": [
    {
     "data": {
      "text/plain": [
       "'ENRICHING LIVES TO CR\\nEAT\\nE A H\\nEALTHI\\nER AND HAPPI\\nER WORLD\\nCSR\\n REPORT 2013-14\\n'"
      ]
     },
     "execution_count": 7,
     "metadata": {},
     "output_type": "execute_result"
    }
   ],
   "source": [
    "# Read the PDF file content and convert from bytes to text\n",
    "pdfReader = PyPDF2.PdfFileReader(BytesIO(pdf_file_body))\n",
    "# Create page object and extract text\n",
    "pageObj = pdfReader.getPage(0)\n",
    "page1 = pageObj.extractText()\n",
    "page1"
   ]
  },
  {
   "cell_type": "code",
   "execution_count": null,
   "id": "321f0fc1-b829-420c-8224-eab66e8c5424",
   "metadata": {},
   "outputs": [],
   "source": []
  }
 ],
 "metadata": {
  "kernelspec": {
   "display_name": "Python 3",
   "language": "python",
   "name": "python3"
  },
  "language_info": {
   "codemirror_mode": {
    "name": "ipython",
    "version": 3
   },
   "file_extension": ".py",
   "mimetype": "text/x-python",
   "name": "python",
   "nbconvert_exporter": "python",
   "pygments_lexer": "ipython3",
   "version": "3.8.3"
  }
 },
 "nbformat": 4,
 "nbformat_minor": 5
}
