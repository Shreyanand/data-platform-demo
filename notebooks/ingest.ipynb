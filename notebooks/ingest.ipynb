{
 "cells": [
  {
   "cell_type": "markdown",
   "id": "b75b9758-5757-4af8-9954-ae2650c65f5c",
   "metadata": {},
   "source": [
    "# Ingest\n",
    "\n",
    "In this notebook, we read a wiki text snippet and save the data to an S3 bucket"
   ]
  },
  {
   "cell_type": "code",
   "execution_count": 17,
   "id": "4a7ae7bd-cdcb-43cb-8447-f0fd28264b18",
   "metadata": {},
   "outputs": [
    {
     "data": {
      "text/plain": [
       "True"
      ]
     },
     "execution_count": 17,
     "metadata": {},
     "output_type": "execute_result"
    }
   ],
   "source": [
    "import os\n",
    "from pathlib import Path\n",
    "import warnings\n",
    "\n",
    "from dotenv import load_dotenv, find_dotenv\n",
    "import boto3\n",
    "# from datasets import load_dataset\n",
    "# from ipywidgets import FloatProgress\n",
    "\n",
    "warnings.filterwarnings(\"ignore\")\n",
    "load_dotenv(find_dotenv())"
   ]
  },
  {
   "cell_type": "code",
   "execution_count": 18,
   "id": "1bab6340-b358-406f-bc21-cac7334d1005",
   "metadata": {
    "tags": []
   },
   "outputs": [],
   "source": [
    "## Create a .env file on your local with the correct configs\n",
    "s3_endpoint_url = os.getenv(\"S3_ENDPOINT\")\n",
    "s3_access_key = os.getenv(\"S3_ACCESS_KEY\")\n",
    "s3_secret_key = os.getenv(\"S3_SECRET_KEY\")\n",
    "s3_bucket = os.getenv(\"S3_BUCKET\")"
   ]
  },
  {
   "cell_type": "code",
   "execution_count": 19,
   "id": "86db9d4e-4289-443a-b7d0-3f45f1fc3fa9",
   "metadata": {},
   "outputs": [],
   "source": [
    "# Create an S3 client\n",
    "s3 = boto3.client(\n",
    "    service_name=\"s3\",\n",
    "    aws_access_key_id=s3_access_key,\n",
    "    aws_secret_access_key=s3_secret_key,\n",
    "    endpoint_url=s3_endpoint_url,\n",
    ")"
   ]
  },
  {
   "cell_type": "code",
   "execution_count": 26,
   "id": "c23f9818-8f9f-4aa0-89ad-a7be87053c55",
   "metadata": {},
   "outputs": [],
   "source": [
    "text = 'The music was composed by Hitoshi Sakimoto , who had also worked on the previous Valkyria Chronicles games . When he originally heard about the project , he thought it would be a light tone similar to other Valkyria Chronicles games , but found the themes much darker than expected . An early theme he designed around his original vision of the project was rejected . He <unk> the main theme about seven times through the music production due to this need to <unk> the game . The main theme was initially recorded using orchestra , then Sakimoto removed elements such as the guitar and bass , then adjusted the theme using a synthesizer before <unk> segments such as the guitar piece on their own before incorporating them into the theme . The rejected main theme was used as a hopeful tune that played during the game \\'s ending . The battle themes were designed around the concept of a \" modern battle \" divorced from a fantasy scenario by using modern musical instruments , constructed to create a sense of <unk> . While Sakimoto was most used to working with synthesized music , he felt that he needed to incorporate live instruments such as orchestra and guitar . The guitar was played by <unk> <unk> , who also arranged several of the later tracks . The game \\'s opening theme song '"
   ]
  },
  {
   "cell_type": "code",
   "execution_count": 27,
   "id": "52bfe8d5-7b78-4bc4-a552-24f5d3f926cd",
   "metadata": {},
   "outputs": [
    {
     "data": {
      "text/plain": [
       "'The music was composed by Hitoshi Sakimoto , who had also worked on the previous Valkyria Chronicles games . When he originally heard about the project , he thought it would be a light tone similar to other Valkyria Chronicles games , but found the themes much darker than expected . An early theme he designed around his original vision of the project was rejected . He <unk> the main theme about seven times through the music production due to this need to <unk> the game . The main theme was initially recorded using orchestra , then Sakimoto removed elements such as the guitar and bass , then adjusted the theme using a synthesizer before <unk> segments such as the guitar piece on their own before incorporating them into the theme . The rejected main theme was used as a hopeful tune that played during the game \\'s ending . The battle themes were designed around the concept of a \" modern battle \" divorced from a fantasy scenario by using modern musical instruments , constructed to create a sense of <unk> . While Sakimoto was most used to working with synthesized music , he felt that he needed to incorporate live instruments such as orchestra and guitar . The guitar was played by <unk> <unk> , who also arranged several of the later tracks . The game \\'s opening theme song '"
      ]
     },
     "execution_count": 27,
     "metadata": {},
     "output_type": "execute_result"
    }
   ],
   "source": [
    "text"
   ]
  },
  {
   "cell_type": "markdown",
   "id": "a83de1a6-b661-4b52-aa70-6bee503ebd9a",
   "metadata": {},
   "source": [
    "## Upload to S3"
   ]
  },
  {
   "cell_type": "code",
   "execution_count": 28,
   "id": "8dd8237c-41f9-4e7b-8777-334a81f12b4c",
   "metadata": {},
   "outputs": [],
   "source": [
    "destination_path = Path('data/raw')\n",
    "\n",
    "if not os.path.exists(destination_path):\n",
    "        destination_path.mkdir(parents=True, exist_ok=True)\n",
    "\n",
    "file_path = destination_path.joinpath('wiki.txt')\n",
    "\n",
    "with open(file_path, 'w') as file:\n",
    "    for item in text:\n",
    "        file.write('%s' % item)"
   ]
  },
  {
   "cell_type": "code",
   "execution_count": 29,
   "id": "883f75b3-e126-42d5-94c2-a03fc0c370f7",
   "metadata": {},
   "outputs": [],
   "source": [
    "key = 'op1-pipelines/wiki.txt'\n",
    "s3.upload_file(Bucket=s3_bucket, Key=key, Filename=str(file_path))"
   ]
  }
 ],
 "metadata": {
  "kernelspec": {
   "display_name": "Python 3 (ipykernel)",
   "language": "python",
   "name": "python3"
  },
  "language_info": {
   "codemirror_mode": {
    "name": "ipython",
    "version": 3
   },
   "file_extension": ".py",
   "mimetype": "text/x-python",
   "name": "python",
   "nbconvert_exporter": "python",
   "pygments_lexer": "ipython3",
   "version": "3.9.6"
  }
 },
 "nbformat": 4,
 "nbformat_minor": 5
}
