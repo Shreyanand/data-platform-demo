{
 "cells": [
  {
   "cell_type": "markdown",
   "id": "617f02bf-1f0f-4c14-98eb-11228a82a6f7",
   "metadata": {},
   "source": [
    "# Processing\n",
    "\n",
    "In this notebook, we read a wiki text snippet from an S3 bucket, process it and save the file abck on S3 to be imported into a Trino database and visualized on SuperSet"
   ]
  },
  {
   "cell_type": "code",
   "execution_count": 13,
   "id": "24e32052-968a-477a-a53d-a85cc3767623",
   "metadata": {},
   "outputs": [
    {
     "data": {
      "text/plain": [
       "True"
      ]
     },
     "execution_count": 13,
     "metadata": {},
     "output_type": "execute_result"
    }
   ],
   "source": [
    "import os\n",
    "import nltk\n",
    "import warnings\n",
    "from pathlib import Path\n",
    "\n",
    "from dotenv import load_dotenv, find_dotenv\n",
    "import boto3\n",
    "from datasets import load_dataset\n",
    "from nltk.corpus import stopwords\n",
    "from nltk.tokenize import word_tokenize\n",
    "\n",
    "warnings.filterwarnings(\"ignore\")\n",
    "load_dotenv(find_dotenv())"
   ]
  },
  {
   "cell_type": "code",
   "execution_count": 2,
   "id": "57dc8260-7653-442c-a110-49cf1839ac50",
   "metadata": {},
   "outputs": [],
   "source": [
    "## Create a .env file on your local with the correct configs\n",
    "s3_endpoint_url = os.getenv(\"S3_ENDPOINT\")\n",
    "s3_access_key = os.getenv(\"S3_ACCESS_KEY\")\n",
    "s3_secret_key = os.getenv(\"S3_SECRET_KEY\")\n",
    "s3_bucket = os.getenv(\"S3_BUCKET\")"
   ]
  },
  {
   "cell_type": "code",
   "execution_count": 3,
   "id": "d9083980-46a9-46eb-affd-0f6cf1de09d8",
   "metadata": {},
   "outputs": [],
   "source": [
    "# Create an S3 client\n",
    "s3 = boto3.client(\n",
    "    service_name=\"s3\",\n",
    "    aws_access_key_id=s3_access_key,\n",
    "    aws_secret_access_key=s3_secret_key,\n",
    "    endpoint_url=s3_endpoint_url,\n",
    ")"
   ]
  },
  {
   "cell_type": "markdown",
   "id": "222e2536-860c-48a4-9916-3032010a56fe",
   "metadata": {},
   "source": [
    "## Read from S3"
   ]
  },
  {
   "cell_type": "code",
   "execution_count": 16,
   "id": "c7cde4cb-fc98-453a-82ee-624653726ac2",
   "metadata": {},
   "outputs": [],
   "source": [
    "# Download from ceph and store in project's data directory\n",
    "raw_destination_path = Path(\"data/raw\")\n",
    "\n",
    "processed_destination_path = Path(\"data/processed\")\n",
    "\n",
    "if not os.path.exists(processed_destination_path):\n",
    "        processed_destination_path.mkdir(parents=True, exist_ok=True)\n",
    "\n",
    "raw_file_path = raw_destination_path.joinpath('wiki.txt')\n",
    "processed_file_path = processed_destination_path.joinpath('token.txt')"
   ]
  },
  {
   "cell_type": "code",
   "execution_count": 18,
   "id": "eb10da73-9af5-4235-ac74-85601f4ee687",
   "metadata": {},
   "outputs": [],
   "source": [
    "key = 'op1-pipelines/wiki.txt'\n",
    "s3.download_file(Bucket=s3_bucket, Key=key, Filename=str(raw_file_path))"
   ]
  },
  {
   "cell_type": "code",
   "execution_count": 5,
   "id": "0a07f6eb-f3f5-4a54-8d97-5b3e67ee661c",
   "metadata": {},
   "outputs": [],
   "source": [
    "f = open(raw_file_path, \"r\")\n",
    "text_corpus = f.read()"
   ]
  },
  {
   "cell_type": "code",
   "execution_count": 6,
   "id": "eb994873-a68c-4aba-be95-59ac32768d36",
   "metadata": {},
   "outputs": [
    {
     "data": {
      "text/plain": [
       "'The music was composed by Hitoshi Sakimoto , who had also worked on the previous Valkyria Chronicles games . When he originally heard about the project , he thought it would be a light tone similar to other Valkyria Chronicles games , but found the themes much darker than expected . An early theme he designed around his original vision of the project was rejected . He <unk> the main theme about seven times through the music production due to this need to <unk> the game . The main theme was initially recorded using orchestra , then Sakimoto removed elements such as the guitar and bass , then adjusted the theme using a synthesizer before <unk> segments such as the guitar piece on their own before incorporating them into the theme . The rejected main theme was used as a hopeful tune that played during the game \\'s ending . The battle themes were designed around the concept of a \" modern battle \" divorced from a fantasy scenario by using modern musical instruments , constructed to create a sense of <unk> . While Sakimoto was most used to working with synthesized music , he felt that he needed to incorporate live instruments such as orchestra and guitar . The guitar was played by <unk> <unk> , who also arranged several of the later tracks . The game \\'s opening theme song '"
      ]
     },
     "execution_count": 6,
     "metadata": {},
     "output_type": "execute_result"
    }
   ],
   "source": [
    "text_corpus"
   ]
  },
  {
   "cell_type": "markdown",
   "id": "822aa203-3928-483a-b4b3-9a70645f0d00",
   "metadata": {},
   "source": [
    "## Process Text"
   ]
  },
  {
   "cell_type": "code",
   "execution_count": 7,
   "id": "9fda59a0-c7ae-448f-b6ce-49aa7be77aa4",
   "metadata": {},
   "outputs": [
    {
     "name": "stderr",
     "output_type": "stream",
     "text": [
      "[nltk_data] Downloading package stopwords to /opt/app-\n",
      "[nltk_data]     root/src/nltk_data...\n",
      "[nltk_data]   Package stopwords is already up-to-date!\n",
      "[nltk_data] Downloading package punkt to /opt/app-\n",
      "[nltk_data]     root/src/nltk_data...\n",
      "[nltk_data]   Package punkt is already up-to-date!\n"
     ]
    },
    {
     "data": {
      "text/plain": [
       "True"
      ]
     },
     "execution_count": 7,
     "metadata": {},
     "output_type": "execute_result"
    }
   ],
   "source": [
    "nltk.download('stopwords')\n",
    "nltk.download('punkt')"
   ]
  },
  {
   "cell_type": "code",
   "execution_count": 8,
   "id": "bf0ad5e7-c912-49a9-a09f-28127d229e47",
   "metadata": {},
   "outputs": [
    {
     "data": {
      "text/plain": [
       "['music',\n",
       " 'composed',\n",
       " 'Hitoshi',\n",
       " 'Sakimoto',\n",
       " ',',\n",
       " 'also',\n",
       " 'worked',\n",
       " 'previous',\n",
       " 'Valkyria',\n",
       " 'Chronicles']"
      ]
     },
     "execution_count": 8,
     "metadata": {},
     "output_type": "execute_result"
    }
   ],
   "source": [
    "stop_words = set(stopwords.words('english'))\n",
    "word_tokens = word_tokenize(text_corpus)\n",
    " \n",
    "tokenized = [w for w in word_tokens if not w.lower() in stop_words]\n",
    "tokenized[0:10]"
   ]
  },
  {
   "cell_type": "code",
   "execution_count": 9,
   "id": "b217f106-9291-4c2a-87fe-93a72495009c",
   "metadata": {},
   "outputs": [],
   "source": [
    "with open(processed_file_path, 'w') as file:\n",
    "    for item in tokenized:\n",
    "        file.write('%s\\n' % item)"
   ]
  },
  {
   "cell_type": "markdown",
   "id": "f8e0736a-85e4-4396-be4b-ef80089cb3d4",
   "metadata": {},
   "source": [
    "## Upload to S3"
   ]
  },
  {
   "cell_type": "code",
   "execution_count": 10,
   "id": "65b1e770-4280-4a82-8b3b-fd1ace59445e",
   "metadata": {},
   "outputs": [],
   "source": [
    "key = 'op1-pipelines/processed/token.txt'\n",
    "s3.upload_file(Bucket=s3_bucket, Key=key, Filename=str(processed_file_path))"
   ]
  }
 ],
 "metadata": {
  "kernelspec": {
   "display_name": "Python 3 (ipykernel)",
   "language": "python",
   "name": "python3"
  },
  "language_info": {
   "codemirror_mode": {
    "name": "ipython",
    "version": 3
   },
   "file_extension": ".py",
   "mimetype": "text/x-python",
   "name": "python",
   "nbconvert_exporter": "python",
   "pygments_lexer": "ipython3",
   "version": "3.9.6"
  }
 },
 "nbformat": 4,
 "nbformat_minor": 5
}
