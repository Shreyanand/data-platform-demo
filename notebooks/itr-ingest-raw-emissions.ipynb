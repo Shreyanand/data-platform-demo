{
 "cells": [
  {
   "cell_type": "code",
   "execution_count": 1,
   "id": "3347d3ec-10a7-4321-a5e6-9b1665e5dfdb",
   "metadata": {},
   "outputs": [],
   "source": [
    "#pip install boto3 pyarrow"
   ]
  },
  {
   "cell_type": "code",
   "execution_count": 2,
   "id": "b05438fd-8b78-477b-90ca-ddbbfeee4de2",
   "metadata": {},
   "outputs": [],
   "source": [
    "import re\n",
    "import pandas as pd\n",
    "_wsdedup = re.compile(r\"\\s+\")\n",
    "_usdedup = re.compile(r\"__+\")\n",
    "_rmpunc = re.compile(r\"[,.()&$/+-]+\")\n",
    "# 63 seems to be a common max column name length\n",
    "def snakify(name, maxlen=63):\n",
    "    if isinstance(name, list):\n",
    "        return [snakify(e) for e in name]\n",
    "    w = name.casefold().rstrip().lstrip()\n",
    "    w = w.replace(\"-\", \"_\")\n",
    "    w = _rmpunc.sub(\"\", w)\n",
    "    w = _wsdedup.sub(\"_\", w)\n",
    "    w = _usdedup.sub(\"_\", w)\n",
    "    w = w.replace(\"average\", \"avg\")\n",
    "    w = w.replace(\"maximum\", \"max\")\n",
    "    w = w.replace(\"minimum\", \"min\")\n",
    "    w = w.replace(\"absolute\", \"abs\")\n",
    "    w = w.replace(\"source\", \"src\")\n",
    "    w = w.replace(\"distribution\", \"dist\")\n",
    "    # these are common in the sample names but unsure of standard abbv\n",
    "    #w = w.replace(\"inference\", \"inf\")\n",
    "    #w = w.replace(\"emissions\", \"emis\")\n",
    "    #w = w.replace(\"intensity\", \"int\")\n",
    "    #w = w.replace(\"reported\", \"rep\")\n",
    "    #w = w.replace(\"revenue\", \"rev\")\n",
    "    w = w[:maxlen] \n",
    "    return w\n",
    "\n",
    "def snakify_columns(df, inplace=False, maxlen=63):\n",
    "    icols = dfEmissions.columns.to_list()\n",
    "    ocols = snakify(icols, maxlen=maxlen)\n",
    "    scols = set(ocols)\n",
    "    if (len(set(ocols)) < len(ocols)):\n",
    "        raise ValueError(\"remapped column names were not unique!\")\n",
    "    rename_map = dict(list(zip(icols,snakify(icols))))\n",
    "    return df.rename(columns=rename_map, inplace=inplace)\n",
    "\n",
    "_p2smap = {\n",
    "    'string': 'varchar',\n",
    "    'Float64': 'double',\n",
    "    'Int64': 'bigint'\n",
    "}\n",
    "\n",
    "def pandas_type_to_sql(pt):\n",
    "    st = _p2smap.get(pt)\n",
    "    if st is not None:\n",
    "        return st\n",
    "    raise ValueError(\"unexpected pandas column type '{pt}'\".format(pt=pt))\n",
    "\n",
    "# add ability to specify optional dict for specific fields?\n",
    "# if column name is present, use specified value?\n",
    "def generate_table_schema_pairs(df):\n",
    "    ptypes = [str(e) for e in df.dtypes.to_list()]\n",
    "    stypes = [pandas_type_to_sql(e) for e in ptypes]\n",
    "    pz = list(zip(df.columns.to_list(), stypes))\n",
    "    return \",\\n\".join([\"    {n} {t}\".format(n=e[0],t=e[1]) for e in pz])"
   ]
  },
  {
   "cell_type": "code",
   "execution_count": 3,
   "id": "d0fa5224-8263-413f-ba11-bf4a901289a9",
   "metadata": {},
   "outputs": [
    {
     "data": {
      "text/plain": [
       "['https://s3.us-east-1.amazonaws.com', 'ocp-odh-os-demo-s3']"
      ]
     },
     "execution_count": 3,
     "metadata": {},
     "output_type": "execute_result"
    }
   ],
   "source": [
    "# best security practice to avoid hard-coding access credentials\n",
    "with open('/opt/app-root/src/s3-auth.txt', 'r') as file:\n",
    "    lines = [line.rstrip() for line in file.readlines()]\n",
    "\n",
    "s3_endpoint_url = lines[0]\n",
    "s3_access_key = lines[1]\n",
    "s3_secret_key = lines[2]\n",
    "s3_bucket = lines[3]\n",
    "del lines\n",
    "\n",
    "[s3_endpoint_url, s3_bucket]"
   ]
  },
  {
   "cell_type": "code",
   "execution_count": 4,
   "id": "fd242a59-f0fb-4c9b-b0ff-951a746a15d4",
   "metadata": {},
   "outputs": [
    {
     "data": {
      "text/plain": [
       "'erik'"
      ]
     },
     "execution_count": 4,
     "metadata": {},
     "output_type": "execute_result"
    }
   ],
   "source": [
    "with open('/opt/app-root/src/trino-auth.txt', 'r') as file:\n",
    "    lines = [line.rstrip() for line in file.readlines()]\n",
    "\n",
    "trino_user = lines[0]\n",
    "trino_passwd = lines[1]\n",
    "trino_host = 'trino-secure-odh-trino.apps.odh-cl1.apps.os-climate.org'\n",
    "trino_port = 443\n",
    "del lines\n",
    "\n",
    "trino_user"
   ]
  },
  {
   "cell_type": "code",
   "execution_count": 5,
   "id": "e98a535e-08fc-47fb-bd83-23258088d7db",
   "metadata": {},
   "outputs": [],
   "source": [
    "import boto3\n",
    "# Create an S3 client\n",
    "s3 = boto3.client(\n",
    "    service_name=\"s3\",\n",
    "    aws_access_key_id=s3_access_key,\n",
    "    aws_secret_access_key=s3_secret_key,\n",
    "    endpoint_url=s3_endpoint_url,\n",
    ")"
   ]
  },
  {
   "cell_type": "code",
   "execution_count": 6,
   "id": "ab43cbc7-ddcc-40c0-8ff5-aaffcb347709",
   "metadata": {},
   "outputs": [
    {
     "data": {
      "text/html": [
       "<div>\n",
       "<style scoped>\n",
       "    .dataframe tbody tr th:only-of-type {\n",
       "        vertical-align: middle;\n",
       "    }\n",
       "\n",
       "    .dataframe tbody tr th {\n",
       "        vertical-align: top;\n",
       "    }\n",
       "\n",
       "    .dataframe thead th {\n",
       "        text-align: right;\n",
       "    }\n",
       "</style>\n",
       "<table border=\"1\" class=\"dataframe\">\n",
       "  <thead>\n",
       "    <tr style=\"text-align: right;\">\n",
       "      <th></th>\n",
       "      <th>company_name</th>\n",
       "      <th>isin</th>\n",
       "      <th>target_type</th>\n",
       "      <th>scope</th>\n",
       "      <th>coverage_s1</th>\n",
       "      <th>coverage_s2</th>\n",
       "      <th>coverage_s3</th>\n",
       "      <th>reduction_ambition</th>\n",
       "      <th>base_year</th>\n",
       "      <th>end_year</th>\n",
       "      <th>start_year</th>\n",
       "      <th>base_year_ghg_emissions_s1_tco2e</th>\n",
       "      <th>base_year_ghg_emissions_s1s2_tco2e</th>\n",
       "      <th>base_year_ghg_emissions_s3_tco2e</th>\n",
       "      <th>achieved_reduction</th>\n",
       "    </tr>\n",
       "  </thead>\n",
       "  <tbody>\n",
       "    <tr>\n",
       "      <th>0</th>\n",
       "      <td>3M CO</td>\n",
       "      <td>US88579Y1010</td>\n",
       "      <td>Absolute</td>\n",
       "      <td>S1+S2</td>\n",
       "      <td>1.0</td>\n",
       "      <td>1.0</td>\n",
       "      <td>&lt;NA&gt;</td>\n",
       "      <td>0.5</td>\n",
       "      <td>2002</td>\n",
       "      <td>2025</td>\n",
       "      <td>2015</td>\n",
       "      <td>&lt;NA&gt;</td>\n",
       "      <td>18,300,000</td>\n",
       "      <td>91,500,000</td>\n",
       "      <td>0.3</td>\n",
       "    </tr>\n",
       "    <tr>\n",
       "      <th>1</th>\n",
       "      <td>ADIDAS AG</td>\n",
       "      <td>DE000A1EWWW0</td>\n",
       "      <td>Absolute</td>\n",
       "      <td>S1+S2</td>\n",
       "      <td>0.9</td>\n",
       "      <td>0.9</td>\n",
       "      <td>&lt;NA&gt;</td>\n",
       "      <td>0.15</td>\n",
       "      <td>2015</td>\n",
       "      <td>2020</td>\n",
       "      <td>2015</td>\n",
       "      <td>&lt;NA&gt;</td>\n",
       "      <td>59,132</td>\n",
       "      <td>295,660</td>\n",
       "      <td>1.0</td>\n",
       "    </tr>\n",
       "    <tr>\n",
       "      <th>2</th>\n",
       "      <td>BARCLAYS PLC</td>\n",
       "      <td>GB0031348658</td>\n",
       "      <td>Absolute</td>\n",
       "      <td>S1+S2</td>\n",
       "      <td>1.0</td>\n",
       "      <td>1.0</td>\n",
       "      <td>&lt;NA&gt;</td>\n",
       "      <td>0.37</td>\n",
       "      <td>2018</td>\n",
       "      <td>2025</td>\n",
       "      <td>2018</td>\n",
       "      <td>&lt;NA&gt;</td>\n",
       "      <td>282,593</td>\n",
       "      <td>1,412,965</td>\n",
       "      <td>0.0</td>\n",
       "    </tr>\n",
       "    <tr>\n",
       "      <th>3</th>\n",
       "      <td>DANONE</td>\n",
       "      <td>FR0000120644</td>\n",
       "      <td>Absolute</td>\n",
       "      <td>S1+S2</td>\n",
       "      <td>0.95</td>\n",
       "      <td>0.95</td>\n",
       "      <td>&lt;NA&gt;</td>\n",
       "      <td>0.3</td>\n",
       "      <td>2015</td>\n",
       "      <td>2030</td>\n",
       "      <td>2017</td>\n",
       "      <td>&lt;NA&gt;</td>\n",
       "      <td>1,681,235</td>\n",
       "      <td>8,406,175</td>\n",
       "      <td>0.68</td>\n",
       "    </tr>\n",
       "    <tr>\n",
       "      <th>4</th>\n",
       "      <td>EQUINOR ASA</td>\n",
       "      <td>NO0010096985</td>\n",
       "      <td>Absolute</td>\n",
       "      <td>S1</td>\n",
       "      <td>1.0</td>\n",
       "      <td>&lt;NA&gt;</td>\n",
       "      <td>&lt;NA&gt;</td>\n",
       "      <td>0.21</td>\n",
       "      <td>2016</td>\n",
       "      <td>2030</td>\n",
       "      <td>2017</td>\n",
       "      <td>9,329,201</td>\n",
       "      <td>&lt;NA&gt;</td>\n",
       "      <td>&lt;NA&gt;</td>\n",
       "      <td>0.06</td>\n",
       "    </tr>\n",
       "  </tbody>\n",
       "</table>\n",
       "</div>"
      ],
      "text/plain": [
       "   company_name          isin target_type  scope  coverage_s1  coverage_s2  \\\n",
       "0         3M CO  US88579Y1010    Absolute  S1+S2          1.0          1.0   \n",
       "1     ADIDAS AG  DE000A1EWWW0    Absolute  S1+S2          0.9          0.9   \n",
       "2  BARCLAYS PLC  GB0031348658    Absolute  S1+S2          1.0          1.0   \n",
       "3        DANONE  FR0000120644    Absolute  S1+S2         0.95         0.95   \n",
       "4   EQUINOR ASA  NO0010096985    Absolute     S1          1.0         <NA>   \n",
       "\n",
       "   coverage_s3  reduction_ambition  base_year  end_year  start_year  \\\n",
       "0         <NA>                 0.5       2002      2025        2015   \n",
       "1         <NA>                0.15       2015      2020        2015   \n",
       "2         <NA>                0.37       2018      2025        2018   \n",
       "3         <NA>                 0.3       2015      2030        2017   \n",
       "4         <NA>                0.21       2016      2030        2017   \n",
       "\n",
       "  base_year_ghg_emissions_s1_tco2e base_year_ghg_emissions_s1s2_tco2e  \\\n",
       "0                             <NA>                        18,300,000    \n",
       "1                             <NA>                            59,132    \n",
       "2                             <NA>                           282,593    \n",
       "3                             <NA>                         1,681,235    \n",
       "4                       9,329,201                                <NA>   \n",
       "\n",
       "  base_year_ghg_emissions_s3_tco2e  achieved_reduction  \n",
       "0                      91,500,000                  0.3  \n",
       "1                         295,660                  1.0  \n",
       "2                       1,412,965                  0.0  \n",
       "3                       8,406,175                 0.68  \n",
       "4                             <NA>                0.06  "
      ]
     },
     "execution_count": 6,
     "metadata": {},
     "output_type": "execute_result"
    }
   ],
   "source": [
    "import pandas as pd\n",
    "obj = s3.get_object(\n",
    "    Bucket=s3_bucket,\n",
    "    Key='urgentem/UrgentemDataSampleEmissionsTargetsDec2020.csv')\n",
    "dfEmissions = (pd.read_csv(obj['Body'])).convert_dtypes()\n",
    "snakify_columns(dfEmissions, inplace=True)\n",
    "dfEmissions.head()"
   ]
  },
  {
   "cell_type": "code",
   "execution_count": 7,
   "id": "7dbbb8cc-889d-47a0-b4e7-ae2a83285168",
   "metadata": {},
   "outputs": [],
   "source": [
    "# a way to examine the structure of a pandas data frame\n",
    "#dfEmissions.info(verbose=True)"
   ]
  },
  {
   "cell_type": "code",
   "execution_count": 8,
   "id": "d823afe4-587d-4ee8-b481-e2edb0ae749d",
   "metadata": {},
   "outputs": [],
   "source": [
    "# parquet has multiple options for appending or updating data\n",
    "# including adding new files, or appending, sharding directory trees, etc\n",
    "dfEmissions.to_parquet('/tmp/emissions.parquet', index=False)\n",
    "s3.upload_file(\n",
    "    Bucket=s3_bucket,\n",
    "    Key='urgentem/trino/itr_emissions_sample_test/emissions.parquet',\n",
    "    Filename='/tmp/emissions.parquet'\n",
    ")"
   ]
  },
  {
   "cell_type": "code",
   "execution_count": 9,
   "id": "f82d3fb7-0040-4a6b-b3e4-62675f51a481",
   "metadata": {},
   "outputs": [],
   "source": [
    "import trino\n",
    "conn = trino.dbapi.connect(\n",
    "    auth=trino.auth.BasicAuthentication(trino_user, trino_passwd),\n",
    "    host=trino_host,\n",
    "    port=trino_port,\n",
    "    http_scheme='https',\n",
    "    verify=True,\n",
    ")\n",
    "cur = conn.cursor()"
   ]
  },
  {
   "cell_type": "code",
   "execution_count": 10,
   "id": "720b20bb-3350-478b-b362-38b9d46150d7",
   "metadata": {},
   "outputs": [
    {
     "data": {
      "text/plain": [
       "[[True]]"
      ]
     },
     "execution_count": 10,
     "metadata": {},
     "output_type": "execute_result"
    }
   ],
   "source": [
    "# For this demonstration example, we just recreate table from scratch each time.\n",
    "# in live data platform there will need to be policies and mechanisms for either\n",
    "# appending new data, or overwriting old data, or saving off conditioned by a versioning number\n",
    "# this is a data governance topic\n",
    "cur.execute('drop table if exists hive.urgentem.itr_emissions_sample_test')\n",
    "cur.fetchall()"
   ]
  },
  {
   "cell_type": "code",
   "execution_count": 11,
   "id": "cd26a9df-806e-488d-9920-39881fd7ce6a",
   "metadata": {},
   "outputs": [
    {
     "name": "stdout",
     "output_type": "stream",
     "text": [
      "create table if not exists hive.urgentem.itr_emissions_sample_test(\n",
      "    company_name varchar,\n",
      "    isin varchar,\n",
      "    target_type varchar,\n",
      "    scope varchar,\n",
      "    coverage_s1 double,\n",
      "    coverage_s2 double,\n",
      "    coverage_s3 bigint,\n",
      "    reduction_ambition double,\n",
      "    base_year bigint,\n",
      "    end_year bigint,\n",
      "    start_year bigint,\n",
      "    base_year_ghg_emissions_s1_tco2e varchar,\n",
      "    base_year_ghg_emissions_s1s2_tco2e varchar,\n",
      "    base_year_ghg_emissions_s3_tco2e varchar,\n",
      "    achieved_reduction double\n",
      ") with (\n",
      "    format = 'parquet',\n",
      "    external_location = 's3a://ocp-odh-os-demo-s3/urgentem/trino/itr_emissions_sample_test/'\n",
      ")\n"
     ]
    },
    {
     "data": {
      "text/plain": [
       "[[True]]"
      ]
     },
     "execution_count": 11,
     "metadata": {},
     "output_type": "execute_result"
    }
   ],
   "source": [
    "# generate a sql schema that will correspond to the data types\n",
    "# of columns in the pandas DF\n",
    "# to-do: add some mechanisms for overriding types, either here\n",
    "# or on the pandas data-frame itself before we write it out\n",
    "schema = generate_table_schema_pairs(dfEmissions)\n",
    "\n",
    "tabledef = \"\"\"create table if not exists hive.urgentem.itr_emissions_sample_test(\n",
    "{schema}\n",
    ") with (\n",
    "    format = 'parquet',\n",
    "    external_location = 's3a://ocp-odh-os-demo-s3/urgentem/trino/itr_emissions_sample_test/'\n",
    ")\"\"\".format(schema=schema)\n",
    "print(tabledef)\n",
    "\n",
    "# tables created externally may not show up immediately in cloud-beaver\n",
    "cur.execute(tabledef)\n",
    "cur.fetchall()"
   ]
  },
  {
   "cell_type": "code",
   "execution_count": 12,
   "id": "9b7c859b-15af-4ddc-a0fc-a26e029d0b09",
   "metadata": {},
   "outputs": [],
   "source": [
    "# test creation of new table\n",
    "#cur.execute('show tables in hive.urgentem')\n",
    "#cur.fetchall()"
   ]
  },
  {
   "cell_type": "code",
   "execution_count": 13,
   "id": "73d62dec-c965-439d-90f2-0ea7fd7f87dd",
   "metadata": {},
   "outputs": [],
   "source": [
    "# test that we can get data\n",
    "#cur.execute('select isin from hive.urgentem.itr_emissions_sample_test')\n",
    "#cur.fetchall()"
   ]
  },
  {
   "cell_type": "code",
   "execution_count": null,
   "id": "a2fd69ae-d334-4e51-934a-4375f31e5a45",
   "metadata": {},
   "outputs": [],
   "source": []
  }
 ],
 "metadata": {
  "kernelspec": {
   "display_name": "Python 3",
   "language": "python",
   "name": "python3"
  },
  "language_info": {
   "codemirror_mode": {
    "name": "ipython",
    "version": 3
   },
   "file_extension": ".py",
   "mimetype": "text/x-python",
   "name": "python",
   "nbconvert_exporter": "python",
   "pygments_lexer": "ipython3",
   "version": "3.8.3"
  }
 },
 "nbformat": 4,
 "nbformat_minor": 5
}
