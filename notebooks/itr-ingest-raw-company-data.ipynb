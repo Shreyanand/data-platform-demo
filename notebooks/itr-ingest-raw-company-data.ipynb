{
 "cells": [
  {
   "cell_type": "code",
   "execution_count": 1,
   "id": "3347d3ec-10a7-4321-a5e6-9b1665e5dfdb",
   "metadata": {},
   "outputs": [],
   "source": [
    "#pip install boto3 pyarrow python-dotenv"
   ]
  },
  {
   "cell_type": "code",
   "execution_count": 2,
   "id": "b05438fd-8b78-477b-90ca-ddbbfeee4de2",
   "metadata": {},
   "outputs": [],
   "source": [
    "import re\n",
    "import pandas as pd\n",
    "_wsdedup = re.compile(r\"\\s+\")\n",
    "_usdedup = re.compile(r\"__+\")\n",
    "_rmpunc = re.compile(r\"[,.()&$/+-]+\")\n",
    "# 63 seems to be a common max column name length\n",
    "def snakify(name, maxlen=63):\n",
    "    if isinstance(name, list):\n",
    "        return [snakify(e) for e in name]\n",
    "    w = name.casefold().rstrip().lstrip()\n",
    "    w = w.replace(\"-\", \"_\")\n",
    "    w = _rmpunc.sub(\"\", w)\n",
    "    w = _wsdedup.sub(\"_\", w)\n",
    "    w = _usdedup.sub(\"_\", w)\n",
    "    w = w.replace(\"average\", \"avg\")\n",
    "    w = w.replace(\"maximum\", \"max\")\n",
    "    w = w.replace(\"minimum\", \"min\")\n",
    "    w = w.replace(\"absolute\", \"abs\")\n",
    "    w = w.replace(\"source\", \"src\")\n",
    "    w = w.replace(\"distribution\", \"dist\")\n",
    "    # these are common in the sample names but unsure of standard abbv\n",
    "    #w = w.replace(\"inference\", \"inf\")\n",
    "    #w = w.replace(\"emissions\", \"emis\")\n",
    "    #w = w.replace(\"intensity\", \"int\")\n",
    "    #w = w.replace(\"reported\", \"rep\")\n",
    "    #w = w.replace(\"revenue\", \"rev\")\n",
    "    w = w[:maxlen] \n",
    "    return w\n",
    "\n",
    "def snakify_columns(df, inplace=False, maxlen=63):\n",
    "    icols = df.columns.to_list()\n",
    "    ocols = snakify(icols, maxlen=maxlen)\n",
    "    scols = set(ocols)\n",
    "    if (len(set(ocols)) < len(ocols)):\n",
    "        raise ValueError(\"remapped column names were not unique!\")\n",
    "    rename_map = dict(list(zip(icols,snakify(icols))))\n",
    "    return df.rename(columns=rename_map, inplace=inplace)\n",
    "\n",
    "_p2smap = {\n",
    "    'string': 'varchar',\n",
    "    'Float64': 'double',\n",
    "    'Int64': 'bigint'\n",
    "}\n",
    "\n",
    "def pandas_type_to_sql(pt):\n",
    "    st = _p2smap.get(pt)\n",
    "    if st is not None:\n",
    "        return st\n",
    "    raise ValueError(\"unexpected pandas column type '{pt}'\".format(pt=pt))\n",
    "\n",
    "# add ability to specify optional dict for specific fields?\n",
    "# if column name is present, use specified value?\n",
    "def generate_table_schema_pairs(df):\n",
    "    ptypes = [str(e) for e in df.dtypes.to_list()]\n",
    "    stypes = [pandas_type_to_sql(e) for e in ptypes]\n",
    "    pz = list(zip(df.columns.to_list(), stypes))\n",
    "    return \",\\n\".join([\"    {n} {t}\".format(n=e[0],t=e[1]) for e in pz])\n",
    "\n",
    "def clean_ref_err(v):\n",
    "    if pd.isna(v):\n",
    "        return pd.NA\n",
    "    if v == '#REF!':\n",
    "        return pd.NA\n",
    "    if v == '#ERROR!':\n",
    "        return pd.NA\n",
    "    return v"
   ]
  },
  {
   "cell_type": "markdown",
   "id": "66daa759-b4a8-46f1-ae97-3e4788d9cb2d",
   "metadata": {},
   "source": [
    "## Example `credentials.env` file\n",
    "\n",
    "```\n",
    "# s3 credentials\n",
    "S3_ENDPOINT=https://s3.us-east-1.amazonaws.com\n",
    "S3_BUCKET=ocp-odh-os-demo-s3\n",
    "S3_ACCESS_KEY=xxx\n",
    "S3_SECRET_KEY=xxx\n",
    "\n",
    "# trino credentials\n",
    "TRINO_USER=xxx\n",
    "TRINO_PASSWD=xxx\n",
    "TRINO_HOST=trino-secure-odh-trino.apps.odh-cl1.apps.os-climate.org\n",
    "TRINO_PORT=443\n",
    "```"
   ]
  },
  {
   "cell_type": "code",
   "execution_count": 3,
   "id": "90b1acdc-0d1b-454a-ab6b-e76d8892acb6",
   "metadata": {},
   "outputs": [],
   "source": [
    "from dotenv import dotenv_values, load_dotenv\n",
    "import os\n",
    "import pathlib\n",
    "\n",
    "dotenv_dir = os.environ.get('CREDENTIAL_DOTENV_DIR', os.environ.get('PWD', '/opt/app-root/src'))\n",
    "dotenv_path = pathlib.Path(dotenv_dir) / 'credentials.env'\n",
    "if os.path.exists(dotenv_path):\n",
    "    load_dotenv(dotenv_path=dotenv_path,override=True)"
   ]
  },
  {
   "cell_type": "code",
   "execution_count": 4,
   "id": "e98a535e-08fc-47fb-bd83-23258088d7db",
   "metadata": {},
   "outputs": [],
   "source": [
    "import boto3\n",
    "# Create an S3 client\n",
    "s3 = boto3.client(\n",
    "    service_name=\"s3\",\n",
    "    endpoint_url=os.environ['DEMO1_S3_ENDPOINT'],\n",
    "    aws_access_key_id=os.environ['DEMO1_S3_ACCESS_KEY'],\n",
    "    aws_secret_access_key=os.environ['DEMO1_S3_SECRET_KEY'],\n",
    ")"
   ]
  },
  {
   "cell_type": "code",
   "execution_count": 5,
   "id": "82cb1723-6772-4c8c-bb23-4453adfc41c2",
   "metadata": {},
   "outputs": [],
   "source": [
    "import trino\n",
    "conn = trino.dbapi.connect(\n",
    "    auth=trino.auth.BasicAuthentication(os.environ['TRINO_USER'], os.environ['TRINO_PASSWD']),\n",
    "    host=os.environ['TRINO_HOST'],\n",
    "    port=int(os.environ['TRINO_PORT']),\n",
    "    http_scheme='https',\n",
    "    verify=True,\n",
    ")\n",
    "cur = conn.cursor()"
   ]
  },
  {
   "cell_type": "code",
   "execution_count": 6,
   "id": "48390461-3f03-4fed-bf1b-9f1a9c996661",
   "metadata": {},
   "outputs": [
    {
     "data": {
      "text/plain": [
       "[[True]]"
      ]
     },
     "execution_count": 6,
     "metadata": {},
     "output_type": "execute_result"
    }
   ],
   "source": [
    "cur.execute('create schema if not exists demo1.company_data')\n",
    "cur.fetchall()"
   ]
  },
  {
   "cell_type": "markdown",
   "id": "dbd967da-09c6-4aaa-9ed7-73eaa760ef37",
   "metadata": {},
   "source": [
    "## ITR Fundamental Data"
   ]
  },
  {
   "cell_type": "code",
   "execution_count": 7,
   "id": "ab43cbc7-ddcc-40c0-8ff5-aaffcb347709",
   "metadata": {},
   "outputs": [],
   "source": [
    "# this will be output trino table name\n",
    "tablename='fundamental_data'\n",
    "\n",
    "obj = s3.get_object(\n",
    "    Bucket=os.environ['DEMO1_S3_BUCKET'],\n",
    "    Key='itr-demo-data/itr_fundamental_data.csv')\n",
    "\n",
    "# load the raw file from the bucket\n",
    "df = (pd.read_csv(obj['Body'])).convert_dtypes()\n",
    "\n",
    "# convert columns to specific data types\n",
    "df = df.convert_dtypes()\n",
    "\n",
    "# map column names to a form that works for SQL\n",
    "snakify_columns(df, inplace=True)\n",
    "#dfEmissions.head()"
   ]
  },
  {
   "cell_type": "code",
   "execution_count": 8,
   "id": "7dbbb8cc-889d-47a0-b4e7-ae2a83285168",
   "metadata": {},
   "outputs": [
    {
     "name": "stdout",
     "output_type": "stream",
     "text": [
      "<class 'pandas.core.frame.DataFrame'>\n",
      "RangeIndex: 35 entries, 0 to 34\n",
      "Data columns (total 16 columns):\n",
      " #   Column                    Non-Null Count  Dtype  \n",
      "---  ------                    --------------  -----  \n",
      " 0   company_name              31 non-null     string \n",
      " 1   company_id                31 non-null     string \n",
      " 2   isic                      0 non-null      Int64  \n",
      " 3   country                   31 non-null     string \n",
      " 4   region                    31 non-null     string \n",
      " 5   industry_level_1          0 non-null      Int64  \n",
      " 6   industry_level_2          0 non-null      Int64  \n",
      " 7   industry_level_3          0 non-null      Int64  \n",
      " 8   industry_level_4          0 non-null      Int64  \n",
      " 9   sector                    31 non-null     string \n",
      " 10  company_revenue           30 non-null     Float64\n",
      " 11  company_market_cap        30 non-null     Float64\n",
      " 12  company_enterprise_value  30 non-null     Float64\n",
      " 13  company_total_assets      30 non-null     Float64\n",
      " 14  company_cash_equivalents  30 non-null     Float64\n",
      " 15  target_probability        30 non-null     Float64\n",
      "dtypes: Float64(6), Int64(5), string(5)\n",
      "memory usage: 4.9 KB\n"
     ]
    }
   ],
   "source": [
    "# a way to examine the structure of a pandas data frame\n",
    "df.info(verbose=True)"
   ]
  },
  {
   "cell_type": "code",
   "execution_count": 9,
   "id": "d823afe4-587d-4ee8-b481-e2edb0ae749d",
   "metadata": {},
   "outputs": [],
   "source": [
    "df.to_parquet('/tmp/{tname}.parquet'.format(tname=tablename), index=False)\n",
    "s3.upload_file(\n",
    "    Bucket=os.environ['DEMO1_S3_BUCKET'],\n",
    "    Key='trino/company_data/{tname}/{tname}.parquet'.format(tname=tablename),\n",
    "    Filename='/tmp/{tname}.parquet'.format(tname=tablename)\n",
    ")"
   ]
  },
  {
   "cell_type": "code",
   "execution_count": 10,
   "id": "720b20bb-3350-478b-b362-38b9d46150d7",
   "metadata": {},
   "outputs": [
    {
     "data": {
      "text/plain": [
       "[[True]]"
      ]
     },
     "execution_count": 10,
     "metadata": {},
     "output_type": "execute_result"
    }
   ],
   "source": [
    "# For this demonstration example, we just recreate table from scratch each time.\n",
    "# in live data platform there will need to be policies and mechanisms for either\n",
    "# appending new data, or overwriting old data, or saving off conditioned by a versioning number\n",
    "# this is a data governance topic\n",
    "cur.execute('drop table if exists demo1.company_data.{tname}'.format(tname=tablename))\n",
    "cur.fetchall()"
   ]
  },
  {
   "cell_type": "code",
   "execution_count": 11,
   "id": "cd26a9df-806e-488d-9920-39881fd7ce6a",
   "metadata": {},
   "outputs": [
    {
     "name": "stdout",
     "output_type": "stream",
     "text": [
      "create table if not exists demo1.company_data.fundamental_data(\n",
      "    company_name varchar,\n",
      "    company_id varchar,\n",
      "    isic bigint,\n",
      "    country varchar,\n",
      "    region varchar,\n",
      "    industry_level_1 bigint,\n",
      "    industry_level_2 bigint,\n",
      "    industry_level_3 bigint,\n",
      "    industry_level_4 bigint,\n",
      "    sector varchar,\n",
      "    company_revenue double,\n",
      "    company_market_cap double,\n",
      "    company_enterprise_value double,\n",
      "    company_total_assets double,\n",
      "    company_cash_equivalents double,\n",
      "    target_probability double\n",
      ") with (\n",
      "    format = 'parquet',\n",
      "    external_location = 's3a://ocp-odh-data-bucket1-s3/trino/company_data/fundamental_data/'\n",
      ")\n"
     ]
    },
    {
     "data": {
      "text/plain": [
       "[[True]]"
      ]
     },
     "execution_count": 11,
     "metadata": {},
     "output_type": "execute_result"
    }
   ],
   "source": [
    "# generate a sql schema that will correspond to the data types\n",
    "# of columns in the pandas DF\n",
    "# to-do: add some mechanisms for overriding types, either here\n",
    "# or on the pandas data-frame itself before we write it out\n",
    "schema = generate_table_schema_pairs(df)\n",
    "\n",
    "tabledef = \"\"\"create table if not exists demo1.company_data.{tname}(\n",
    "{schema}\n",
    ") with (\n",
    "    format = 'parquet',\n",
    "    external_location = 's3a://{bucket}/trino/company_data/{tname}/'\n",
    ")\"\"\".format(schema=schema,bucket=os.environ['DEMO1_S3_BUCKET'],tname=tablename)\n",
    "print(tabledef)\n",
    "\n",
    "# tables created externally may not show up immediately in cloud-beaver\n",
    "cur.execute(tabledef)\n",
    "cur.fetchall()"
   ]
  },
  {
   "cell_type": "code",
   "execution_count": 12,
   "id": "73d62dec-c965-439d-90f2-0ea7fd7f87dd",
   "metadata": {},
   "outputs": [],
   "source": [
    "# test that we can get data\n",
    "#cur.execute('select country from demo1.company_data.fundamental_data')\n",
    "#cur.fetchall()"
   ]
  },
  {
   "cell_type": "markdown",
   "id": "9d6eec25-1d04-467e-bde1-73b504f9ab15",
   "metadata": {},
   "source": [
    "## ITR Projected Production"
   ]
  },
  {
   "cell_type": "code",
   "execution_count": 13,
   "id": "a2fd69ae-d334-4e51-934a-4375f31e5a45",
   "metadata": {},
   "outputs": [],
   "source": [
    "tablename = 'projected_production'\n",
    "\n",
    "obj = s3.get_object(\n",
    "    Bucket=os.environ['DEMO1_S3_BUCKET'],\n",
    "    Key='itr-demo-data/itr_projected_production.csv')\n",
    "\n",
    "# load the raw file from the bucket\n",
    "df = (pd.read_csv(obj['Body'])).convert_dtypes()\n",
    "\n",
    "# map column names to a form that works for SQL\n",
    "snakify_columns(df, inplace=True)\n",
    "\n",
    "#dfEmissions.head()"
   ]
  },
  {
   "cell_type": "code",
   "execution_count": 14,
   "id": "d402734d-0015-4d7f-85ba-9f70b31da371",
   "metadata": {},
   "outputs": [],
   "source": [
    "# a way to examine the structure of a pandas data frame\n",
    "#df.info(verbose=True)"
   ]
  },
  {
   "cell_type": "code",
   "execution_count": 15,
   "id": "97797a36-de8a-410a-a6f7-cc6f11e64ac6",
   "metadata": {},
   "outputs": [],
   "source": [
    "df = df[['company_id','variable','2020']]\n",
    "rename={\n",
    "    '2020':'y2020'\n",
    "}\n",
    "df.rename(columns=rename, inplace=True)"
   ]
  },
  {
   "cell_type": "code",
   "execution_count": 16,
   "id": "00273cc0-aa07-4ac4-aed6-7cbe4d77b403",
   "metadata": {},
   "outputs": [],
   "source": [
    "df['y2020'] = (df['y2020']).map(clean_ref_err)"
   ]
  },
  {
   "cell_type": "code",
   "execution_count": 17,
   "id": "af671de3-4270-465a-bab3-81be0c35257d",
   "metadata": {},
   "outputs": [],
   "source": [
    "df = df.convert_dtypes()"
   ]
  },
  {
   "cell_type": "code",
   "execution_count": 18,
   "id": "f063b93e-7e82-4102-9490-a618bd5c7b53",
   "metadata": {},
   "outputs": [],
   "source": [
    "df['y2020'] = df['y2020'].astype('Float64')"
   ]
  },
  {
   "cell_type": "code",
   "execution_count": 19,
   "id": "604289b6-0483-4735-aa5d-aba42b73ee05",
   "metadata": {},
   "outputs": [],
   "source": [
    "df.to_parquet('/tmp/{tname}.parquet'.format(tname=tablename), index=False)\n",
    "s3.upload_file(\n",
    "    Bucket=os.environ['DEMO1_S3_BUCKET'],\n",
    "    Key='trino/company_data/{tname}/{tname}.parquet'.format(tname=tablename),\n",
    "    Filename='/tmp/{tname}.parquet'.format(tname=tablename)\n",
    ")"
   ]
  },
  {
   "cell_type": "code",
   "execution_count": 20,
   "id": "067545b9-5804-457d-9999-ebd4e4fb0a76",
   "metadata": {},
   "outputs": [
    {
     "data": {
      "text/plain": [
       "[[True]]"
      ]
     },
     "execution_count": 20,
     "metadata": {},
     "output_type": "execute_result"
    }
   ],
   "source": [
    "cur.execute('drop table if exists demo1.company_data.{tname}'.format(tname=tablename))\n",
    "cur.fetchall()"
   ]
  },
  {
   "cell_type": "code",
   "execution_count": 21,
   "id": "ed2bdfcc-66ea-4e59-9797-f753f02faae9",
   "metadata": {},
   "outputs": [
    {
     "name": "stdout",
     "output_type": "stream",
     "text": [
      "create table if not exists demo1.company_data.projected_production(\n",
      "    company_id varchar,\n",
      "    variable varchar,\n",
      "    y2020 double\n",
      ") with (\n",
      "    format = 'parquet',\n",
      "    external_location = 's3a://ocp-odh-data-bucket1-s3/trino/company_data/projected_production/'\n",
      ")\n"
     ]
    },
    {
     "data": {
      "text/plain": [
       "[[True]]"
      ]
     },
     "execution_count": 21,
     "metadata": {},
     "output_type": "execute_result"
    }
   ],
   "source": [
    "schema = generate_table_schema_pairs(df)\n",
    "\n",
    "tabledef = \"\"\"create table if not exists demo1.company_data.{tname}(\n",
    "{schema}\n",
    ") with (\n",
    "    format = 'parquet',\n",
    "    external_location = 's3a://{bucket}/trino/company_data/{tname}/'\n",
    ")\"\"\".format(schema=schema,bucket=os.environ['DEMO1_S3_BUCKET'],tname=tablename)\n",
    "print(tabledef)\n",
    "\n",
    "# tables created externally may not show up immediately in cloud-beaver\n",
    "cur.execute(tabledef)\n",
    "cur.fetchall()"
   ]
  },
  {
   "cell_type": "code",
   "execution_count": 22,
   "id": "b543d1b3-dba9-4d92-a442-0dd65a14f1c9",
   "metadata": {},
   "outputs": [],
   "source": [
    "# test that we can get data\n",
    "#cur.execute('select y2020 from demo1.company_data.projected_production')\n",
    "#cur.fetchall()"
   ]
  },
  {
   "cell_type": "markdown",
   "id": "433b4a6a-7e4f-422d-b694-31f27b1b97d4",
   "metadata": {},
   "source": [
    "## ITR Projected Target"
   ]
  },
  {
   "cell_type": "code",
   "execution_count": 26,
   "id": "b550aacf-7100-44cf-83db-f6e64accb629",
   "metadata": {},
   "outputs": [],
   "source": [
    "tablename = 'projected_target'\n",
    "\n",
    "obj = s3.get_object(\n",
    "    Bucket=os.environ['DEMO1_S3_BUCKET'],\n",
    "    Key='itr-demo-data/itr_projected_target.csv')\n",
    "\n",
    "# load the raw file from the bucket\n",
    "df = (pd.read_csv(obj['Body']))\n",
    "\n",
    "# map column names to a form that works for SQL\n",
    "snakify_columns(df, inplace=True)"
   ]
  },
  {
   "cell_type": "code",
   "execution_count": 27,
   "id": "a93bef8b-ddea-43dc-829e-e392206d25d5",
   "metadata": {},
   "outputs": [],
   "source": [
    "df = df[['company_id','variable','2020']]\n",
    "rename={\n",
    "    '2020':'y2020'\n",
    "}\n",
    "df.rename(columns=rename, inplace=True)"
   ]
  },
  {
   "cell_type": "code",
   "execution_count": 28,
   "id": "d29f5a0e-c4af-4062-82a9-eabca504fa48",
   "metadata": {},
   "outputs": [],
   "source": [
    "df['y2020'] = (df['y2020']).map(clean_ref_err)"
   ]
  },
  {
   "cell_type": "code",
   "execution_count": 29,
   "id": "3a875671-b784-47bb-82b1-1da81ae789e1",
   "metadata": {},
   "outputs": [],
   "source": [
    "df = df.convert_dtypes()"
   ]
  },
  {
   "cell_type": "code",
   "execution_count": 30,
   "id": "51f60787-8d9e-4172-813e-871b37e32436",
   "metadata": {},
   "outputs": [],
   "source": [
    "df['y2020'] = (df['y2020']).astype('Float64')"
   ]
  },
  {
   "cell_type": "code",
   "execution_count": 31,
   "id": "d5ee2f6e-89bf-4e24-9fc5-a1851de26ea9",
   "metadata": {},
   "outputs": [],
   "source": [
    "df.to_parquet('/tmp/{tname}.parquet'.format(tname=tablename), index=False)\n",
    "s3.upload_file(\n",
    "    Bucket=os.environ['DEMO1_S3_BUCKET'],\n",
    "    Key='trino/company_data/{tname}/{tname}.parquet'.format(tname=tablename),\n",
    "    Filename='/tmp/{tname}.parquet'.format(tname=tablename)\n",
    ")"
   ]
  },
  {
   "cell_type": "code",
   "execution_count": 32,
   "id": "cbda0071-609f-430d-a22f-91852a5e4b52",
   "metadata": {},
   "outputs": [
    {
     "data": {
      "text/plain": [
       "[[True]]"
      ]
     },
     "execution_count": 32,
     "metadata": {},
     "output_type": "execute_result"
    }
   ],
   "source": [
    "cur.execute('drop table if exists demo1.company_data.{tname}'.format(tname=tablename))\n",
    "cur.fetchall()"
   ]
  },
  {
   "cell_type": "code",
   "execution_count": 33,
   "id": "1bf5d8c6-abcb-4d20-ac2f-10abebc85e31",
   "metadata": {},
   "outputs": [
    {
     "name": "stdout",
     "output_type": "stream",
     "text": [
      "create table if not exists demo1.company_data.projected_target(\n",
      "    company_id varchar,\n",
      "    variable varchar,\n",
      "    y2020 double\n",
      ") with (\n",
      "    format = 'parquet',\n",
      "    external_location = 's3a://ocp-odh-data-bucket1-s3/trino/company_data/projected_target/'\n",
      ")\n"
     ]
    },
    {
     "data": {
      "text/plain": [
       "[[True]]"
      ]
     },
     "execution_count": 33,
     "metadata": {},
     "output_type": "execute_result"
    }
   ],
   "source": [
    "schema = generate_table_schema_pairs(df)\n",
    "\n",
    "tabledef = \"\"\"create table if not exists demo1.company_data.{tname}(\n",
    "{schema}\n",
    ") with (\n",
    "    format = 'parquet',\n",
    "    external_location = 's3a://{bucket}/trino/company_data/{tname}/'\n",
    ")\"\"\".format(schema=schema,bucket=os.environ['DEMO1_S3_BUCKET'],tname=tablename)\n",
    "print(tabledef)\n",
    "\n",
    "# tables created externally may not show up immediately in cloud-beaver\n",
    "cur.execute(tabledef)\n",
    "cur.fetchall()"
   ]
  },
  {
   "cell_type": "markdown",
   "id": "843db460-6b07-4ba3-8712-47a69edc36e0",
   "metadata": {},
   "source": [
    "## ITR Projected ei in Wh"
   ]
  },
  {
   "cell_type": "code",
   "execution_count": 34,
   "id": "7cf42319-4734-4a84-ae01-a36647d47c1d",
   "metadata": {},
   "outputs": [],
   "source": [
    "tablename = 'projected_ei_in_wh'\n",
    "\n",
    "obj = s3.get_object(\n",
    "    Bucket=os.environ['DEMO1_S3_BUCKET'],\n",
    "    Key='itr-demo-data/itr_projected_ei_in_Wh.csv')\n",
    "\n",
    "# load the raw file from the bucket\n",
    "df = (pd.read_csv(obj['Body']))\n",
    "\n",
    "# map column names to a form that works for SQL\n",
    "snakify_columns(df, inplace=True)"
   ]
  },
  {
   "cell_type": "code",
   "execution_count": 35,
   "id": "6bda0e90-97c6-4106-bfd3-c9cb3a028a14",
   "metadata": {},
   "outputs": [],
   "source": [
    "df = df[['company_id','variable','2020']]\n",
    "rename={\n",
    "    '2020':'y2020'\n",
    "}\n",
    "df.rename(columns=rename, inplace=True)"
   ]
  },
  {
   "cell_type": "code",
   "execution_count": 36,
   "id": "6992514a-693e-4a92-8188-62152d1f504e",
   "metadata": {},
   "outputs": [],
   "source": [
    "df['y2020'] = (df['y2020']).map(clean_ref_err)"
   ]
  },
  {
   "cell_type": "code",
   "execution_count": 37,
   "id": "11ba8bdb-ada1-4a05-a21f-9f2d679e7ffd",
   "metadata": {},
   "outputs": [],
   "source": [
    "df = df.convert_dtypes()"
   ]
  },
  {
   "cell_type": "code",
   "execution_count": 38,
   "id": "823e19a8-bb1a-4328-93d0-1b1631f69d59",
   "metadata": {},
   "outputs": [],
   "source": [
    "df['y2020'] = (df['y2020']).astype('Float64')"
   ]
  },
  {
   "cell_type": "code",
   "execution_count": 39,
   "id": "eb966177-0bb3-4676-a99f-1c0fc7d941f8",
   "metadata": {},
   "outputs": [],
   "source": [
    "df.to_parquet('/tmp/{tname}.parquet'.format(tname=tablename), index=False)\n",
    "s3.upload_file(\n",
    "    Bucket=os.environ['DEMO1_S3_BUCKET'],\n",
    "    Key='trino/company_data/{tname}/{tname}.parquet'.format(tname=tablename),\n",
    "    Filename='/tmp/{tname}.parquet'.format(tname=tablename)\n",
    ")"
   ]
  },
  {
   "cell_type": "code",
   "execution_count": 40,
   "id": "26b0aa21-9716-4a67-9bb9-b644fd5864bb",
   "metadata": {},
   "outputs": [
    {
     "data": {
      "text/plain": [
       "[[True]]"
      ]
     },
     "execution_count": 40,
     "metadata": {},
     "output_type": "execute_result"
    }
   ],
   "source": [
    "cur.execute('drop table if exists demo1.company_data.{tname}'.format(tname=tablename))\n",
    "cur.fetchall()"
   ]
  },
  {
   "cell_type": "code",
   "execution_count": 41,
   "id": "0669e8b3-0a5b-45b4-a8ba-d0bb7c969680",
   "metadata": {},
   "outputs": [
    {
     "name": "stdout",
     "output_type": "stream",
     "text": [
      "create table if not exists demo1.company_data.projected_ei_in_wh(\n",
      "    company_id varchar,\n",
      "    variable varchar,\n",
      "    y2020 double\n",
      ") with (\n",
      "    format = 'parquet',\n",
      "    external_location = 's3a://ocp-odh-data-bucket1-s3/trino/company_data/projected_ei_in_wh/'\n",
      ")\n"
     ]
    },
    {
     "data": {
      "text/plain": [
       "[[True]]"
      ]
     },
     "execution_count": 41,
     "metadata": {},
     "output_type": "execute_result"
    }
   ],
   "source": [
    "schema = generate_table_schema_pairs(df)\n",
    "\n",
    "tabledef = \"\"\"create table if not exists demo1.company_data.{tname}(\n",
    "{schema}\n",
    ") with (\n",
    "    format = 'parquet',\n",
    "    external_location = 's3a://{bucket}/trino/company_data/{tname}/'\n",
    ")\"\"\".format(schema=schema,bucket=os.environ['DEMO1_S3_BUCKET'],tname=tablename)\n",
    "print(tabledef)\n",
    "\n",
    "# tables created externally may not show up immediately in cloud-beaver\n",
    "cur.execute(tabledef)\n",
    "cur.fetchall()"
   ]
  },
  {
   "cell_type": "code",
   "execution_count": null,
   "id": "15151ecf-f057-4118-bba6-7222e2d68b75",
   "metadata": {},
   "outputs": [],
   "source": []
  }
 ],
 "metadata": {
  "kernelspec": {
   "display_name": "Python 3",
   "language": "python",
   "name": "python3"
  },
  "language_info": {
   "codemirror_mode": {
    "name": "ipython",
    "version": 3
   },
   "file_extension": ".py",
   "mimetype": "text/x-python",
   "name": "python",
   "nbconvert_exporter": "python",
   "pygments_lexer": "ipython3",
   "version": "3.8.3"
  }
 },
 "nbformat": 4,
 "nbformat_minor": 5
}
