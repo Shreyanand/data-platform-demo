{
 "cells": [
  {
   "cell_type": "code",
   "execution_count": null,
   "id": "3347d3ec-10a7-4321-a5e6-9b1665e5dfdb",
   "metadata": {},
   "outputs": [],
   "source": [
    "#pip install boto3 pyarrow python-dotenv openpyxl"
   ]
  },
  {
   "cell_type": "code",
   "execution_count": null,
   "id": "b05438fd-8b78-477b-90ca-ddbbfeee4de2",
   "metadata": {},
   "outputs": [],
   "source": [
    "import re\n",
    "import pandas as pd\n",
    "_wsdedup = re.compile(r\"\\s+\")\n",
    "_usdedup = re.compile(r\"__+\")\n",
    "_rmpunc = re.compile(r\"[,.()&$/+-]+\")\n",
    "# 63 seems to be a common max column name length\n",
    "def snakify(name, maxlen=63):\n",
    "    if isinstance(name, list):\n",
    "        return [snakify(e) for e in name]\n",
    "    w = str(name).casefold().rstrip().lstrip()\n",
    "    w = w.replace(\"-\", \"_\")\n",
    "    w = _rmpunc.sub(\"\", w)\n",
    "    w = _wsdedup.sub(\"_\", w)\n",
    "    w = _usdedup.sub(\"_\", w)\n",
    "    w = w.replace(\"average\", \"avg\")\n",
    "    w = w.replace(\"maximum\", \"max\")\n",
    "    w = w.replace(\"minimum\", \"min\")\n",
    "    w = w.replace(\"absolute\", \"abs\")\n",
    "    w = w.replace(\"source\", \"src\")\n",
    "    w = w.replace(\"distribution\", \"dist\")\n",
    "    # these are common in the sample names but unsure of standard abbv\n",
    "    #w = w.replace(\"inference\", \"inf\")\n",
    "    #w = w.replace(\"emissions\", \"emis\")\n",
    "    #w = w.replace(\"intensity\", \"int\")\n",
    "    #w = w.replace(\"reported\", \"rep\")\n",
    "    #w = w.replace(\"revenue\", \"rev\")\n",
    "    w = w[:maxlen] \n",
    "    return w\n",
    "\n",
    "def snakify_columns(df, inplace=False, maxlen=63):\n",
    "    icols = df.columns.to_list()\n",
    "    ocols = snakify(icols, maxlen=maxlen)\n",
    "    scols = set(ocols)\n",
    "    if (len(set(ocols)) < len(ocols)):\n",
    "        raise ValueError(\"remapped column names were not unique!\")\n",
    "    rename_map = dict(list(zip(icols,snakify(icols))))\n",
    "    return df.rename(columns=rename_map, inplace=inplace)\n",
    "\n",
    "_p2smap = {\n",
    "    'string': 'varchar',\n",
    "    'Float64': 'double',\n",
    "    'Int64': 'bigint'\n",
    "}\n",
    "\n",
    "def pandas_type_to_sql(pt):\n",
    "    st = _p2smap.get(pt)\n",
    "    if st is not None:\n",
    "        return st\n",
    "    raise ValueError(\"unexpected pandas column type '{pt}'\".format(pt=pt))\n",
    "\n",
    "# add ability to specify optional dict for specific fields?\n",
    "# if column name is present, use specified value?\n",
    "def generate_table_schema_pairs(df):\n",
    "    ptypes = [str(e) for e in df.dtypes.to_list()]\n",
    "    stypes = [pandas_type_to_sql(e) for e in ptypes]\n",
    "    pz = list(zip(df.columns.to_list(), stypes))\n",
    "    return \",\\n\".join([\"    {n} {t}\".format(n=e[0],t=e[1]) for e in pz])\n",
    "\n",
    "# this seems to be unnecessary when loading directly from xlsx files\n",
    "def clean_ref_err(v):\n",
    "    if pd.isna(v):\n",
    "        return pd.NA\n",
    "    if v == '#REF!':\n",
    "        return pd.NA\n",
    "    if v == '#ERROR!':\n",
    "        return pd.NA\n",
    "    return v"
   ]
  },
  {
   "cell_type": "code",
   "execution_count": null,
   "id": "246406b7-2cef-4fb7-bed5-6110aeec7fa1",
   "metadata": {},
   "outputs": [],
   "source": [
    "rename_year_columns={}\n",
    "for y in range(2000,2100):\n",
    "    rename_year_columns[str(y)] = 'y{yr}'.format(yr=y)\n",
    "#rename_year_columns"
   ]
  },
  {
   "cell_type": "markdown",
   "id": "66daa759-b4a8-46f1-ae97-3e4788d9cb2d",
   "metadata": {},
   "source": [
    "## Example `credentials.env` file\n",
    "\n",
    "```\n",
    "# s3 credentials\n",
    "S3_ENDPOINT=https://s3.us-east-1.amazonaws.com\n",
    "S3_BUCKET=ocp-odh-os-demo-s3\n",
    "S3_ACCESS_KEY=xxx\n",
    "S3_SECRET_KEY=xxx\n",
    "\n",
    "# trino credentials\n",
    "TRINO_USER=xxx\n",
    "TRINO_PASSWD=xxx\n",
    "TRINO_HOST=trino-secure-odh-trino.apps.odh-cl1.apps.os-climate.org\n",
    "TRINO_PORT=443\n",
    "```"
   ]
  },
  {
   "cell_type": "code",
   "execution_count": null,
   "id": "90b1acdc-0d1b-454a-ab6b-e76d8892acb6",
   "metadata": {},
   "outputs": [],
   "source": [
    "from dotenv import dotenv_values, load_dotenv\n",
    "import os\n",
    "import pathlib\n",
    "\n",
    "dotenv_dir = os.environ.get('CREDENTIAL_DOTENV_DIR', os.environ.get('PWD', '/opt/app-root/src'))\n",
    "dotenv_path = pathlib.Path(dotenv_dir) / 'credentials.env'\n",
    "if os.path.exists(dotenv_path):\n",
    "    load_dotenv(dotenv_path=dotenv_path,override=True)"
   ]
  },
  {
   "cell_type": "code",
   "execution_count": null,
   "id": "e98a535e-08fc-47fb-bd83-23258088d7db",
   "metadata": {},
   "outputs": [],
   "source": [
    "import boto3\n",
    "# Create an S3 client\n",
    "s3 = boto3.client(\n",
    "    service_name=\"s3\",\n",
    "    endpoint_url=os.environ['DEMO1_S3_ENDPOINT'],\n",
    "    aws_access_key_id=os.environ['DEMO1_S3_ACCESS_KEY'],\n",
    "    aws_secret_access_key=os.environ['DEMO1_S3_SECRET_KEY'],\n",
    ")"
   ]
  },
  {
   "cell_type": "code",
   "execution_count": null,
   "id": "82cb1723-6772-4c8c-bb23-4453adfc41c2",
   "metadata": {},
   "outputs": [],
   "source": [
    "import trino\n",
    "conn = trino.dbapi.connect(\n",
    "    auth=trino.auth.BasicAuthentication(os.environ['TRINO_USER'], os.environ['TRINO_PASSWD']),\n",
    "    host=os.environ['TRINO_HOST'],\n",
    "    port=int(os.environ['TRINO_PORT']),\n",
    "    http_scheme='https',\n",
    "    verify=True,\n",
    ")\n",
    "cur = conn.cursor()"
   ]
  },
  {
   "cell_type": "code",
   "execution_count": null,
   "id": "48390461-3f03-4fed-bf1b-9f1a9c996661",
   "metadata": {},
   "outputs": [],
   "source": [
    "cur.execute('create schema if not exists demo1.company_data')\n",
    "cur.fetchall()"
   ]
  },
  {
   "cell_type": "markdown",
   "id": "92b350de-9ffe-4b29-930b-d398f1c82aec",
   "metadata": {},
   "source": [
    "## load xlsx file\n",
    "\n",
    "Loading directly from xlsx -> pandas yields cleaner data than attempting multiple translations:\n",
    "xlsx -> gsheet -> csv -> pandas"
   ]
  },
  {
   "cell_type": "code",
   "execution_count": null,
   "id": "3f6cc884-44f2-45b6-ba05-cae006137705",
   "metadata": {},
   "outputs": [],
   "source": [
    "# loading excel doesn't work from 'get_object' mode\n",
    "\n",
    "s3.download_file(\n",
    "    os.environ['DEMO1_S3_BUCKET'],\n",
    "    'itr-demo-data/ITR_company_data_minimum_required.xlsx',\n",
    "    '/tmp/t.xlsx'\n",
    ")\n",
    "\n",
    "# load the raw file from the bucket\n",
    "xls = pd.ExcelFile('/tmp/t.xlsx')\n",
    "xls.sheet_names"
   ]
  },
  {
   "cell_type": "markdown",
   "id": "dbd967da-09c6-4aaa-9ed7-73eaa760ef37",
   "metadata": {},
   "source": [
    "## ITR Fundamental Data"
   ]
  },
  {
   "cell_type": "code",
   "execution_count": null,
   "id": "6024dd17-32fa-406b-b36a-9dd8c49a4e8f",
   "metadata": {},
   "outputs": [],
   "source": [
    "# this will be output trino table name\n",
    "tablename = 'fundamental_data'\n",
    "\n",
    "# get this sheet, and assess data types\n",
    "df = pd.read_excel(xls, 'fundamental_data').convert_dtypes()\n",
    "\n",
    "# rename columns to forms that sql will handle\n",
    "snakify_columns(df, inplace=True)\n",
    "df.rename(columns=rename_year_columns, inplace=True)"
   ]
  },
  {
   "cell_type": "code",
   "execution_count": null,
   "id": "7dbbb8cc-889d-47a0-b4e7-ae2a83285168",
   "metadata": {},
   "outputs": [],
   "source": [
    "# a way to examine the structure of a pandas data frame\n",
    "df.info(verbose=True)"
   ]
  },
  {
   "cell_type": "code",
   "execution_count": null,
   "id": "d823afe4-587d-4ee8-b481-e2edb0ae749d",
   "metadata": {},
   "outputs": [],
   "source": [
    "df.to_parquet('/tmp/{tname}.parquet'.format(tname=tablename), index=False)\n",
    "s3.upload_file(\n",
    "    Bucket=os.environ['DEMO1_S3_BUCKET'],\n",
    "    Key='trino/company_data/{tname}/{tname}.parquet'.format(tname=tablename),\n",
    "    Filename='/tmp/{tname}.parquet'.format(tname=tablename)\n",
    ")"
   ]
  },
  {
   "cell_type": "code",
   "execution_count": null,
   "id": "720b20bb-3350-478b-b362-38b9d46150d7",
   "metadata": {},
   "outputs": [],
   "source": [
    "# For this demonstration example, we just recreate table from scratch each time.\n",
    "# in live data platform there will need to be policies and mechanisms for either\n",
    "# appending new data, or overwriting old data, or saving off conditioned by a versioning number\n",
    "# this is a data governance topic\n",
    "cur.execute('drop table if exists demo1.company_data.{tname}'.format(tname=tablename))\n",
    "cur.fetchall()"
   ]
  },
  {
   "cell_type": "code",
   "execution_count": null,
   "id": "cd26a9df-806e-488d-9920-39881fd7ce6a",
   "metadata": {},
   "outputs": [],
   "source": [
    "# generate a sql schema that will correspond to the data types\n",
    "# of columns in the pandas DF\n",
    "# to-do: add some mechanisms for overriding types, either here\n",
    "# or on the pandas data-frame itself before we write it out\n",
    "schema = generate_table_schema_pairs(df)\n",
    "\n",
    "tabledef = \"\"\"create table if not exists demo1.company_data.{tname}(\n",
    "{schema}\n",
    ") with (\n",
    "    format = 'parquet',\n",
    "    external_location = 's3a://{bucket}/trino/company_data/{tname}/'\n",
    ")\"\"\".format(schema=schema,bucket=os.environ['DEMO1_S3_BUCKET'],tname=tablename)\n",
    "print(tabledef)\n",
    "\n",
    "# tables created externally may not show up immediately in cloud-beaver\n",
    "cur.execute(tabledef)\n",
    "cur.fetchall()"
   ]
  },
  {
   "cell_type": "code",
   "execution_count": null,
   "id": "73d62dec-c965-439d-90f2-0ea7fd7f87dd",
   "metadata": {},
   "outputs": [],
   "source": [
    "# test that we can get data\n",
    "#cur.execute('select country from demo1.company_data.fundamental_data')\n",
    "#cur.fetchall()"
   ]
  },
  {
   "cell_type": "markdown",
   "id": "9d6eec25-1d04-467e-bde1-73b504f9ab15",
   "metadata": {},
   "source": [
    "## ITR Projected Production"
   ]
  },
  {
   "cell_type": "code",
   "execution_count": null,
   "id": "55c5322a-edb5-47d5-9af1-fbb50b42d493",
   "metadata": {},
   "outputs": [],
   "source": [
    "# this will be output trino table name\n",
    "tablename = 'projected_production'\n",
    "\n",
    "# get this sheet, and assess data types\n",
    "df = pd.read_excel(xls, 'projected_production').convert_dtypes()\n",
    "\n",
    "# rename columns to forms that sql will handle\n",
    "snakify_columns(df, inplace=True)\n",
    "df.rename(columns=rename_year_columns, inplace=True)"
   ]
  },
  {
   "cell_type": "code",
   "execution_count": null,
   "id": "d402734d-0015-4d7f-85ba-9f70b31da371",
   "metadata": {},
   "outputs": [],
   "source": [
    "# a way to examine the structure of a pandas data frame\n",
    "#df.info(verbose=True)"
   ]
  },
  {
   "cell_type": "code",
   "execution_count": null,
   "id": "604289b6-0483-4735-aa5d-aba42b73ee05",
   "metadata": {},
   "outputs": [],
   "source": [
    "df.to_parquet('/tmp/{tname}.parquet'.format(tname=tablename), index=False)\n",
    "s3.upload_file(\n",
    "    Bucket=os.environ['DEMO1_S3_BUCKET'],\n",
    "    Key='trino/company_data/{tname}/{tname}.parquet'.format(tname=tablename),\n",
    "    Filename='/tmp/{tname}.parquet'.format(tname=tablename)\n",
    ")"
   ]
  },
  {
   "cell_type": "code",
   "execution_count": null,
   "id": "067545b9-5804-457d-9999-ebd4e4fb0a76",
   "metadata": {},
   "outputs": [],
   "source": [
    "cur.execute('drop table if exists demo1.company_data.{tname}'.format(tname=tablename))\n",
    "cur.fetchall()"
   ]
  },
  {
   "cell_type": "code",
   "execution_count": null,
   "id": "ed2bdfcc-66ea-4e59-9797-f753f02faae9",
   "metadata": {},
   "outputs": [],
   "source": [
    "schema = generate_table_schema_pairs(df)\n",
    "\n",
    "tabledef = \"\"\"create table if not exists demo1.company_data.{tname}(\n",
    "{schema}\n",
    ") with (\n",
    "    format = 'parquet',\n",
    "    external_location = 's3a://{bucket}/trino/company_data/{tname}/'\n",
    ")\"\"\".format(schema=schema,bucket=os.environ['DEMO1_S3_BUCKET'],tname=tablename)\n",
    "print(tabledef)\n",
    "\n",
    "# tables created externally may not show up immediately in cloud-beaver\n",
    "cur.execute(tabledef)\n",
    "cur.fetchall()"
   ]
  },
  {
   "cell_type": "code",
   "execution_count": null,
   "id": "b543d1b3-dba9-4d92-a442-0dd65a14f1c9",
   "metadata": {},
   "outputs": [],
   "source": [
    "# test that we can get data\n",
    "#cur.execute('select y2020 from demo1.company_data.projected_production')\n",
    "#cur.fetchall()"
   ]
  },
  {
   "cell_type": "markdown",
   "id": "433b4a6a-7e4f-422d-b694-31f27b1b97d4",
   "metadata": {},
   "source": [
    "## ITR Projected Target"
   ]
  },
  {
   "cell_type": "code",
   "execution_count": null,
   "id": "b550aacf-7100-44cf-83db-f6e64accb629",
   "metadata": {},
   "outputs": [],
   "source": [
    "tablename = 'projected_target'\n",
    "\n",
    "# get this sheet, and assess data types\n",
    "df = pd.read_excel(xls, 'projected_target').convert_dtypes()\n",
    "\n",
    "# rename columns to forms that sql will handle\n",
    "snakify_columns(df, inplace=True)\n",
    "df.rename(columns=rename_year_columns, inplace=True)"
   ]
  },
  {
   "cell_type": "code",
   "execution_count": null,
   "id": "d5ee2f6e-89bf-4e24-9fc5-a1851de26ea9",
   "metadata": {},
   "outputs": [],
   "source": [
    "df.to_parquet('/tmp/{tname}.parquet'.format(tname=tablename), index=False)\n",
    "s3.upload_file(\n",
    "    Bucket=os.environ['DEMO1_S3_BUCKET'],\n",
    "    Key='trino/company_data/{tname}/{tname}.parquet'.format(tname=tablename),\n",
    "    Filename='/tmp/{tname}.parquet'.format(tname=tablename)\n",
    ")"
   ]
  },
  {
   "cell_type": "code",
   "execution_count": null,
   "id": "cbda0071-609f-430d-a22f-91852a5e4b52",
   "metadata": {},
   "outputs": [],
   "source": [
    "cur.execute('drop table if exists demo1.company_data.{tname}'.format(tname=tablename))\n",
    "cur.fetchall()"
   ]
  },
  {
   "cell_type": "code",
   "execution_count": null,
   "id": "1bf5d8c6-abcb-4d20-ac2f-10abebc85e31",
   "metadata": {},
   "outputs": [],
   "source": [
    "schema = generate_table_schema_pairs(df)\n",
    "\n",
    "tabledef = \"\"\"create table if not exists demo1.company_data.{tname}(\n",
    "{schema}\n",
    ") with (\n",
    "    format = 'parquet',\n",
    "    external_location = 's3a://{bucket}/trino/company_data/{tname}/'\n",
    ")\"\"\".format(schema=schema,bucket=os.environ['DEMO1_S3_BUCKET'],tname=tablename)\n",
    "print(tabledef)\n",
    "\n",
    "# tables created externally may not show up immediately in cloud-beaver\n",
    "cur.execute(tabledef)\n",
    "cur.fetchall()"
   ]
  },
  {
   "cell_type": "markdown",
   "id": "843db460-6b07-4ba3-8712-47a69edc36e0",
   "metadata": {},
   "source": [
    "## ITR Projected ei in Wh"
   ]
  },
  {
   "cell_type": "code",
   "execution_count": null,
   "id": "7cf42319-4734-4a84-ae01-a36647d47c1d",
   "metadata": {},
   "outputs": [],
   "source": [
    "tablename = 'projected_ei_in_wh'\n",
    "\n",
    "# get this sheet, and assess data types\n",
    "df = pd.read_excel(xls, 'projected_ei_in_Wh').convert_dtypes()\n",
    "\n",
    "# rename columns to forms that sql will handle\n",
    "snakify_columns(df, inplace=True)\n",
    "df.rename(columns=rename_year_columns, inplace=True)"
   ]
  },
  {
   "cell_type": "code",
   "execution_count": null,
   "id": "eb966177-0bb3-4676-a99f-1c0fc7d941f8",
   "metadata": {},
   "outputs": [],
   "source": [
    "df.to_parquet('/tmp/{tname}.parquet'.format(tname=tablename), index=False)\n",
    "s3.upload_file(\n",
    "    Bucket=os.environ['DEMO1_S3_BUCKET'],\n",
    "    Key='trino/company_data/{tname}/{tname}.parquet'.format(tname=tablename),\n",
    "    Filename='/tmp/{tname}.parquet'.format(tname=tablename)\n",
    ")"
   ]
  },
  {
   "cell_type": "code",
   "execution_count": null,
   "id": "26b0aa21-9716-4a67-9bb9-b644fd5864bb",
   "metadata": {},
   "outputs": [],
   "source": [
    "cur.execute('drop table if exists demo1.company_data.{tname}'.format(tname=tablename))\n",
    "cur.fetchall()"
   ]
  },
  {
   "cell_type": "code",
   "execution_count": null,
   "id": "0669e8b3-0a5b-45b4-a8ba-d0bb7c969680",
   "metadata": {},
   "outputs": [],
   "source": [
    "schema = generate_table_schema_pairs(df)\n",
    "\n",
    "tabledef = \"\"\"create table if not exists demo1.company_data.{tname}(\n",
    "{schema}\n",
    ") with (\n",
    "    format = 'parquet',\n",
    "    external_location = 's3a://{bucket}/trino/company_data/{tname}/'\n",
    ")\"\"\".format(schema=schema,bucket=os.environ['DEMO1_S3_BUCKET'],tname=tablename)\n",
    "print(tabledef)\n",
    "\n",
    "# tables created externally may not show up immediately in cloud-beaver\n",
    "cur.execute(tabledef)\n",
    "cur.fetchall()"
   ]
  },
  {
   "cell_type": "code",
   "execution_count": null,
   "id": "e205b32d-1c1c-4987-9aa3-992fb182d5c0",
   "metadata": {},
   "outputs": [],
   "source": []
  }
 ],
 "metadata": {
  "kernelspec": {
   "display_name": "Python 3",
   "language": "python",
   "name": "python3"
  },
  "language_info": {
   "codemirror_mode": {
    "name": "ipython",
    "version": 3
   },
   "file_extension": ".py",
   "mimetype": "text/x-python",
   "name": "python",
   "nbconvert_exporter": "python",
   "pygments_lexer": "ipython3",
   "version": "3.8.3"
  }
 },
 "nbformat": 4,
 "nbformat_minor": 5
}
